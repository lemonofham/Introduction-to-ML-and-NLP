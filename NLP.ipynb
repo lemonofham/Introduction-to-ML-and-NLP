{
 "cells": [
  {
   "cell_type": "code",
   "execution_count": 1,
   "id": "074350ab-fbf5-4098-bd3a-1f7a97d82511",
   "metadata": {},
   "outputs": [
    {
     "name": "stdout",
     "output_type": "stream",
     "text": [
      "4.53.1\n"
     ]
    }
   ],
   "source": [
    "import transformers\n",
    "from transformers import pipeline\n",
    "from transformers import GPT2Tokenizer, GPT2LMHeadModel\n",
    "from datasets import load_dataset\n",
    "from transformers import Trainer, TrainingArguments\n",
    "print(transformers.__version__)"
   ]
  },
  {
   "cell_type": "code",
   "execution_count": 2,
   "id": "aeac278a-0dae-4c2d-955e-b6d590c9521b",
   "metadata": {},
   "outputs": [
    {
     "name": "stderr",
     "output_type": "stream",
     "text": [
      "Device set to use mps:0\n"
     ]
    }
   ],
   "source": [
    "generator = pipeline('text-generation', model='gpt2')\n",
    "model = GPT2LMHeadModel.from_pretrained('gpt2')\n",
    "# generator(\"Hello, I'm a language model,\", max_length=30, num_return_sequences=5)"
   ]
  },
  {
   "cell_type": "code",
   "execution_count": 3,
   "id": "c781d5cb-e963-420a-bf0e-b4c9215b3625",
   "metadata": {},
   "outputs": [
    {
     "name": "stderr",
     "output_type": "stream",
     "text": [
      "The new embeddings will be initialized from a multivariate normal distribution that has old embeddings' mean and covariance. As described in this article: https://nlp.stanford.edu/~johnhew/vocab-expansion.html. To disable this, use `mean_resizing=False`\n"
     ]
    }
   ],
   "source": [
    "tokenizer = GPT2Tokenizer.from_pretrained('gpt2')\n",
    "if tokenizer.pad_token is None:\n",
    "    tokenizer.add_special_tokens({'pad_token': '[PAD]'})\n",
    "    model.resize_token_embeddings(len(tokenizer))\n",
    "# text = \"Replace me by any text you'd like.\"\n",
    "# encoded_input = tokenizer(text, return_tensors='pt')\n",
    "# output = model(**encoded_input)"
   ]
  },
  {
   "cell_type": "code",
   "execution_count": 4,
   "id": "c61da8fd-aee5-4199-b406-108d7689c055",
   "metadata": {},
   "outputs": [],
   "source": [
    "dataset = load_dataset(\"Salesforce/wikitext\", \"wikitext-2-raw-v1\")"
   ]
  },
  {
   "cell_type": "code",
   "execution_count": 5,
   "id": "be3defeb-161e-43a0-a052-8bc663b13ddc",
   "metadata": {},
   "outputs": [],
   "source": [
    "def tokenize(examples):\n",
    "    tokens = tokenizer(examples[\"text\"], padding=\"max_length\", truncation=True, max_length=128)\n",
    "    tokens[\"labels\"] = tokens[\"input_ids\"].copy()\n",
    "    return tokens\n",
    "tokenized_dataset = dataset.map(tokenize, batched=True)"
   ]
  },
  {
   "cell_type": "code",
   "execution_count": null,
   "id": "bfe94ab0-6e53-4c91-ba88-1ebcf19c9771",
   "metadata": {},
   "outputs": [
    {
     "name": "stderr",
     "output_type": "stream",
     "text": [
      "`loss_type=None` was set in the config but it is unrecognised.Using the default loss: `ForCausalLMLoss`.\n"
     ]
    },
    {
     "data": {
      "text/html": [
       "\n",
       "    <div>\n",
       "      \n",
       "      <progress value='7629' max='27540' style='width:300px; height:20px; vertical-align: middle;'></progress>\n",
       "      [ 7629/27540 1:29:03 < 3:52:29, 1.43 it/s, Epoch 0.83/3]\n",
       "    </div>\n",
       "    <table border=\"1\" class=\"dataframe\">\n",
       "  <thead>\n",
       " <tr style=\"text-align: left;\">\n",
       "      <th>Step</th>\n",
       "      <th>Training Loss</th>\n",
       "    </tr>\n",
       "  </thead>\n",
       "  <tbody>\n",
       "    <tr>\n",
       "      <td>500</td>\n",
       "      <td>4.055100</td>\n",
       "    </tr>\n",
       "    <tr>\n",
       "      <td>1000</td>\n",
       "      <td>1.353100</td>\n",
       "    </tr>\n",
       "    <tr>\n",
       "      <td>1500</td>\n",
       "      <td>1.380000</td>\n",
       "    </tr>\n",
       "    <tr>\n",
       "      <td>2000</td>\n",
       "      <td>1.281600</td>\n",
       "    </tr>\n",
       "    <tr>\n",
       "      <td>2500</td>\n",
       "      <td>1.274600</td>\n",
       "    </tr>\n",
       "    <tr>\n",
       "      <td>3000</td>\n",
       "      <td>1.254600</td>\n",
       "    </tr>\n",
       "    <tr>\n",
       "      <td>3500</td>\n",
       "      <td>1.286300</td>\n",
       "    </tr>\n",
       "    <tr>\n",
       "      <td>4000</td>\n",
       "      <td>1.313000</td>\n",
       "    </tr>\n",
       "    <tr>\n",
       "      <td>4500</td>\n",
       "      <td>1.269900</td>\n",
       "    </tr>\n",
       "    <tr>\n",
       "      <td>5000</td>\n",
       "      <td>1.273900</td>\n",
       "    </tr>\n",
       "    <tr>\n",
       "      <td>5500</td>\n",
       "      <td>1.222400</td>\n",
       "    </tr>\n",
       "    <tr>\n",
       "      <td>6000</td>\n",
       "      <td>1.233900</td>\n",
       "    </tr>\n",
       "    <tr>\n",
       "      <td>6500</td>\n",
       "      <td>1.312400</td>\n",
       "    </tr>\n",
       "    <tr>\n",
       "      <td>7000</td>\n",
       "      <td>1.308000</td>\n",
       "    </tr>\n",
       "    <tr>\n",
       "      <td>7500</td>\n",
       "      <td>1.251000</td>\n",
       "    </tr>\n",
       "  </tbody>\n",
       "</table><p>"
      ],
      "text/plain": [
       "<IPython.core.display.HTML object>"
      ]
     },
     "metadata": {},
     "output_type": "display_data"
    }
   ],
   "source": [
    "training_args = TrainingArguments(output_dir=\"./results\", learning_rate=2e-5, per_device_train_batch_size=4, num_train_epochs=3, use_cpu=True)\n",
    "trainer = Trainer(model=model, args=training_args, train_dataset=tokenized_dataset[\"train\"])\n",
    "trainer.train()"
   ]
  },
  {
   "cell_type": "code",
   "execution_count": null,
   "id": "41d89594-fe33-484a-bf88-8485ae10cffd",
   "metadata": {},
   "outputs": [],
   "source": [
    "import torch\n",
    "import numpy as np\n",
    "from transformers import GPT2LMHeadModel, GPT2Tokenizer\n",
    "\n",
    "def compute_perplexity(model, tokenizer, texts):\n",
    "    model.eval()\n",
    "    losses = []\n",
    "    for text in texts:\n",
    "        inputs = tokenizer(text, return_tensors=\"pt\", truncation=True)\n",
    "        with torch.no_grad():\n",
    "            outputs = model(**inputs, labels=inputs[\"input_ids\"])\n",
    "        loss = outputs.loss\n",
    "        losses.append(loss.item())\n",
    "    return np.exp(np.mean(losses))  # Exponentiate average loss\n"
   ]
  },
  {
   "cell_type": "code",
   "execution_count": null,
   "id": "f51b7ab2-d06d-4f24-ad41-c74be50d8156",
   "metadata": {},
   "outputs": [],
   "source": [
    "def top_k_accuracy(model, tokenizer, text, k=5):\n",
    "    model.eval()\n",
    "    inputs = tokenizer(text, return_tensors=\"pt\")\n",
    "    input_ids = inputs[\"input_ids\"]\n",
    "    \n",
    "    with torch.no_grad():\n",
    "        outputs = model(**inputs)\n",
    "        logits = outputs.logits\n",
    "\n",
    "    shift_logits = logits[:, :-1, :]\n",
    "    shift_labels = input_ids[:, 1:]\n",
    "\n",
    "    _, top_k = torch.topk(shift_logits, k, dim=-1)  # shape: [batch, seq_len-1, k]\n",
    "\n",
    "    match = (top_k == shift_labels.unsqueeze(-1)).any(-1).float()  # [batch, seq_len-1]\n",
    "    acc = match.mean().item()\n",
    "    return acc\n"
   ]
  },
  {
   "cell_type": "code",
   "execution_count": null,
   "id": "7fb9eca5-e734-42da-b3a6-50c9d0cf2fb1",
   "metadata": {},
   "outputs": [],
   "source": [
    "texts = [\"The quick brown fox\", \"Once upon a time\"]\n",
    "ppl = compute_perplexity(model, tokenizer, texts)\n",
    "print(\"Perplexity:\", ppl)\n"
   ]
  },
  {
   "cell_type": "code",
   "execution_count": null,
   "id": "ed075772-04bf-406e-8c0a-3864ab517edd",
   "metadata": {},
   "outputs": [],
   "source": [
    "text = \"The quick brown fox jumps over the lazy\"\n",
    "acc = top_k_accuracy(model, tokenizer, text, k=5)\n",
    "print(\"Top-5 Accuracy:\", acc)\n"
   ]
  },
  {
   "cell_type": "code",
   "execution_count": null,
   "id": "ac1444a6-4f48-43ff-87d2-2c0a3fa78f8f",
   "metadata": {},
   "outputs": [],
   "source": [
    "import evaluate\n",
    "import torch\n",
    "from transformers import GPT2LMHeadModel, GPT2Tokenizer\n",
    "\n",
    "# Load model and tokenizer\n",
    "model = GPT2LMHeadModel.from_pretrained(\"gpt2\")\n",
    "tokenizer = GPT2Tokenizer.from_pretrained(\"gpt2\")\n",
    "model.eval()\n",
    "\n",
    "# Load perplexity metric\n",
    "perplexity_metric = evaluate.load(\"perplexity\")\n",
    "\n",
    "# Sample inputs\n",
    "texts = [\"The quick brown fox jumps over the lazy dog.\", \n",
    "         \"Once upon a time in a land far away...\"]\n",
    "\n",
    "# Tokenize\n",
    "encodings = tokenizer(texts, padding=True, truncation=True, return_tensors=\"pt\")\n",
    "\n",
    "# Evaluate perplexity\n",
    "results = perplexity_metric.compute(model=model, input_texts=texts)\n",
    "print(\"Perplexity:\", results[\"perplexities\"])\n"
   ]
  },
  {
   "cell_type": "code",
   "execution_count": null,
   "id": "073169dd-72ee-413b-99e2-2273ebb23a6a",
   "metadata": {},
   "outputs": [],
   "source": [
    "import torch\n",
    "from transformers import GPT2LMHeadModel, GPT2Tokenizer\n",
    "from torchmetrics.classification import MulticlassAccuracy\n",
    "\n",
    "# Load model/tokenizer\n",
    "model = GPT2LMHeadModel.from_pretrained(\"gpt2\")\n",
    "tokenizer = GPT2Tokenizer.from_pretrained(\"gpt2\")\n",
    "model.eval()\n",
    "\n",
    "# Input text\n",
    "text = \"The quick brown fox jumps over the lazy dog\"\n",
    "inputs = tokenizer(text, return_tensors=\"pt\")\n",
    "input_ids = inputs[\"input_ids\"]\n",
    "\n",
    "# Get logits\n",
    "with torch.no_grad():\n",
    "    outputs = model(**inputs)\n",
    "    logits = outputs.logits\n",
    "\n",
    "# Prepare logits and labels\n",
    "shift_logits = logits[:, :-1, :]           # [batch, seq_len-1, vocab_size]\n",
    "shift_labels = input_ids[:, 1:]            # [batch, seq_len-1]\n",
    "\n",
    "# Flatten\n",
    "logits_flat = shift_logits.reshape(-1, shift_logits.size(-1))  # [tokens, vocab]\n",
    "labels_flat = shift_labels.reshape(-1)                         # [tokens]\n",
    "\n",
    "# Top-k accuracy (e.g., top-5)\n",
    "topk_metric = MulticlassAccuracy(top_k=5, num_classes=logits_flat.size(-1), average=\"micro\")\n",
    "acc = topk_metric(logits_flat, labels_flat)\n",
    "print(f\"Top-5 Accuracy: {acc.item():.4f}\")\n"
   ]
  },
  {
   "cell_type": "code",
   "execution_count": null,
   "id": "d2d15f9b-23d8-4439-9772-7eb467359224",
   "metadata": {},
   "outputs": [],
   "source": []
  }
 ],
 "metadata": {
  "kernelspec": {
   "display_name": "Python (nlp-env)",
   "language": "python",
   "name": "nlp-env"
  },
  "language_info": {
   "codemirror_mode": {
    "name": "ipython",
    "version": 3
   },
   "file_extension": ".py",
   "mimetype": "text/x-python",
   "name": "python",
   "nbconvert_exporter": "python",
   "pygments_lexer": "ipython3",
   "version": "3.10.18"
  }
 },
 "nbformat": 4,
 "nbformat_minor": 5
}
