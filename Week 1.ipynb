{
 "cells": [
  {
   "cell_type": "code",
   "execution_count": 10,
   "id": "bdb4b78b-ebaf-4882-9ba7-6a8e50873d12",
   "metadata": {},
   "outputs": [],
   "source": [
    "import numpy as np\n",
    "import pandas as pd\n",
    "import random"
   ]
  },
  {
   "cell_type": "markdown",
   "id": "7793190e-7e34-4351-bdea-c1b12164095b",
   "metadata": {},
   "source": [
    "### Q1"
   ]
  },
  {
   "cell_type": "code",
   "execution_count": 37,
   "id": "0b386093-c335-4789-939d-71e6fdd72e8a",
   "metadata": {},
   "outputs": [],
   "source": [
    "def numpy_boundary_traversal(matrix):\n",
    "    rows, columns = matrix.shape\n",
    "    returning_array = np.zeros(2*rows+2*columns-4)\n",
    "    counter = 0\n",
    "    for i in range(columns):\n",
    "        returning_array[counter] = matrix[0][i]\n",
    "        counter += 1\n",
    "    for i in range(rows - 1):\n",
    "        returning_array[counter] = matrix[i + 1][columns - 1]\n",
    "        counter += 1\n",
    "    for i in reversed(range(columns - 1)):\n",
    "        returning_array[counter] = matrix[rows - 1][i]\n",
    "        counter += 1\n",
    "    for i in reversed(range(rows - 2)):\n",
    "        returning_array[counter] = matrix[i + 1][0]\n",
    "        counter += 1\n",
    "    return returning_array"
   ]
  },
  {
   "cell_type": "code",
   "execution_count": 38,
   "id": "c421aaf8-0e6b-41de-9721-fdc07777d0c7",
   "metadata": {},
   "outputs": [
    {
     "name": "stdout",
     "output_type": "stream",
     "text": [
      "[[37  8 27 40]\n",
      " [49 33 46  9]\n",
      " [22  2 35  1]\n",
      " [22 31 46 25]\n",
      " [ 6 16 24 46]]\n",
      "[40. 46.  2. 22.]\n",
      "The max of row 1 is: 40\n",
      "The max of row 2 is: 49\n",
      "The max of row 3 is: 35\n",
      "The max of row 4 is: 46\n",
      "The max of row 5 is: 46\n",
      "[ 8  9 22  2  1 22 25  6 16 24]\n",
      "[37.  8. 27. 40.  9.  1. 25. 46. 24. 16.  6. 22. 22. 49.]\n"
     ]
    }
   ],
   "source": [
    "row_size = 5\n",
    "column_size = 4\n",
    "a = np.random.randint(1, 51, (row_size, column_size))\n",
    "print(a)\n",
    "num = min(row_size, column_size)\n",
    "anti_diagonal = np.zeros(num)\n",
    "for i in range(num):\n",
    "    anti_diagonal[i] = a[i, column_size - i - 1]\n",
    "print(anti_diagonal)\n",
    "for i in range(row_size):\n",
    "    print(f\"The max of row {i+1} is: {np.max(a[i])}\")\n",
    "b = a[~(a > np.mean(a))]\n",
    "print(b)\n",
    "print(numpy_boundary_traversal(a))"
   ]
  },
  {
   "cell_type": "markdown",
   "id": "c7e4e693-5f8b-4200-8563-fe8627531c2a",
   "metadata": {},
   "source": [
    "### Q2"
   ]
  },
  {
   "cell_type": "code",
   "execution_count": 78,
   "id": "facd74b7-6fee-472a-9c00-6031c7d0fc90",
   "metadata": {},
   "outputs": [],
   "source": [
    "def numpy_alternate_sort(matrix):\n",
    "    new_matrix = np.zeros(matrix.size)\n",
    "    for i in range(matrix.size):\n",
    "        if i % 2:\n",
    "            to_delete = np.argmin(matrix)\n",
    "            new_matrix[i] = matrix[to_delete]\n",
    "            matrix = np.delete(matrix, to_delete)\n",
    "        else:\n",
    "            to_delete = np.argmax(matrix)\n",
    "            new_matrix[i] = matrix[to_delete]\n",
    "            matrix = np.delete(matrix, to_delete)\n",
    "    return new_matrix"
   ]
  },
  {
   "cell_type": "code",
   "execution_count": 82,
   "id": "d4e383c3-5a30-4fdb-9c73-71ff8321a8d9",
   "metadata": {},
   "outputs": [
    {
     "name": "stdout",
     "output_type": "stream",
     "text": [
      "[7.59 4.73 4.62 8.16 4.36 7.64 5.15 3.17 6.68 1.38 6.98 8.67 9.08 1.23\n",
      " 5.73 9.46 1.32 0.34 9.55 1.56]\n",
      "0.34 9.55 5.44\n",
      "[ 7.59 22.37 21.34  8.16 19.01  7.64  5.15 10.05  6.68  1.9   6.98  8.67\n",
      "  9.08  1.51  5.73  9.46  1.74  0.12  9.55  2.43]\n",
      "[22.37  0.12 21.34  1.51 19.01  1.74 10.05  1.9   9.55  2.43  9.46  5.15\n",
      "  9.08  5.73  8.67  6.68  8.16  6.98  7.64  7.59]\n"
     ]
    }
   ],
   "source": [
    "a = np.round(np.random.rand(20) * 10, decimals=2)\n",
    "print(a)\n",
    "print(min(a), max(a), np.median(a))\n",
    "a[np.where(a < 5)] = np.round(a[np.where(a < 5)] ** 2, 2)\n",
    "print(a)\n",
    "print(numpy_alternate_sort(a))"
   ]
  },
  {
   "cell_type": "markdown",
   "id": "ffeeed1b-666a-4a1c-b46b-a1640dfde6fa",
   "metadata": {},
   "source": [
    "### Q3"
   ]
  },
  {
   "cell_type": "code",
   "execution_count": 117,
   "id": "f40f3341-1cec-40fa-9a32-d5385b4f50ee",
   "metadata": {},
   "outputs": [],
   "source": [
    "def pandas_filter_pass(df):\n",
    "    new_df = df.loc[(df[\"Grade\"] == \"A\") | (df[\"Grade\"] == \"B\")]\n",
    "    return new_df"
   ]
  },
  {
   "cell_type": "code",
   "execution_count": 119,
   "id": "8fa16e9b-b67d-4ae2-8a98-0330379012ef",
   "metadata": {},
   "outputs": [
    {
     "name": "stdout",
     "output_type": "stream",
     "text": [
      "       Name      Subject  Score Grade\n",
      "0      Liam      Physics     82     B\n",
      "1    Olivia    Chemistry     66     D\n",
      "2     Ethan      Physics     86     B\n",
      "3       Ava      Physics     58     F\n",
      "4      Noah      Physics     64     D\n",
      "5  Isabella      Physics     96     A\n",
      "6     Mason    Chemistry     57     F\n",
      "7    Sophia      Physics     56     F\n",
      "8     Lucas  Mathematics     84     B\n",
      "9       Mia      Physics     61     D\n",
      "                 Score\n",
      "Subject               \n",
      "Chemistry    61.500000\n",
      "Mathematics  84.000000\n",
      "Physics      71.857143\n",
      "       Name      Subject  Score Grade\n",
      "0      Liam      Physics     82     B\n",
      "2     Ethan      Physics     86     B\n",
      "5  Isabella      Physics     96     A\n",
      "8     Lucas  Mathematics     84     B\n"
     ]
    }
   ],
   "source": [
    "subjects_choose = [\"Mathematics\", \"Physics\", \"Chemistry\"]\n",
    "subjects = []\n",
    "for i in range(10):\n",
    "    subjects.append(random.choice(subjects_choose))\n",
    "names = [\"Liam\", \"Olivia\", \"Ethan\", \"Ava\", \"Noah\", \"Isabella\", \"Mason\", \"Sophia\", \"Lucas\", \"Mia\"]\n",
    "grades = []\n",
    "for i in range(10):\n",
    "    grades.append(\"\")\n",
    "columns = [\"Name\", \"Subjects\", \"Score\", \"Grade\"]\n",
    "data = {\"Name\": [], \"Subject\": [], \"Score\": [], \"Grade\": []}\n",
    "data[\"Name\"] = names\n",
    "data[\"Subject\"] = subjects\n",
    "data[\"Score\"] = np.random.randint(50, 101, 10).tolist()\n",
    "data[\"Grade\"] = grades\n",
    "df = pd.DataFrame(data)\n",
    "df.loc[df[\"Score\"] >= 90, \"Grade\"] = \"A\"\n",
    "df.loc[(df[\"Score\"] >= 80) & (df[\"Score\"] < 90), \"Grade\"] = \"B\"\n",
    "df.loc[(df[\"Score\"] >= 70) & (df[\"Score\"] < 80), \"Grade\"] = \"C\"\n",
    "df.loc[(df[\"Score\"] >= 60) & (df[\"Score\"] < 70), \"Grade\"] = \"D\"\n",
    "df.loc[df[\"Score\"] < 60, \"Grade\"] = \"F\"\n",
    "df.sort_values(\"Score\", ascending=False)\n",
    "print(df)\n",
    "print(df.groupby([\"Subject\"]).mean(\"Score\"))\n",
    "print(pandas_filter_pass(df))"
   ]
  },
  {
   "cell_type": "code",
   "execution_count": 105,
   "id": "a34c4dd7-9dc0-48c4-92e3-93f85cb8ccf3",
   "metadata": {},
   "outputs": [],
   "source": [
    "def predict_review_sentiment(model, vectorizer, review):\n",
    "    transformed_review = vectorizer.transform(review)\n",
    "    return \"Positive\" if model.predict(transformed_review) == 1 else \"Negative\""
   ]
  },
  {
   "cell_type": "code",
   "execution_count": 2,
   "id": "44f88f8c-3314-4fa7-93e1-d7f6040eb083",
   "metadata": {},
   "outputs": [],
   "source": [
    "reviews = [\n",
    "    # Positive reviews\n",
    "    \"Absolutely loved it! A masterpiece.\",\n",
    "    \"Fantastic direction and great acting.\",\n",
    "    \"Beautifully shot and emotionally powerful.\",\n",
    "    \"One of the best films I’ve seen this year.\",\n",
    "    \"Amazing storyline and characters.\",\n",
    "    \"Brilliant performances from the entire cast.\",\n",
    "    \"A truly inspiring experience.\",\n",
    "    \"Heartwarming and unforgettable.\",\n",
    "    \"Gripping from start to finish.\",\n",
    "    \"A visual and emotional treat.\",\n",
    "    \"Cinematography was top-notch.\",\n",
    "    \"A delightful surprise, really enjoyed it.\",\n",
    "    \"Superb in every aspect.\",\n",
    "    \"The plot kept me hooked throughout.\",\n",
    "    \"An exceptional movie. Highly recommended.\",\n",
    "    \"Outstanding direction and storytelling.\",\n",
    "    \"Incredible pacing and character depth.\",\n",
    "    \"An emotional rollercoaster done right.\",\n",
    "    \"So touching and meaningful.\",\n",
    "    \"Absolutely perfect in every way.\",\n",
    "    \"Genuinely entertaining and moving.\",\n",
    "    \"Loved the writing and performances.\",\n",
    "    \"A cinematic gem.\",\n",
    "    \"Fantastic score and visuals.\",\n",
    "    \"Emotionally rich and artistically bold.\",\n",
    "    \"Left me speechless. Beautiful.\",\n",
    "    \"Great chemistry among actors.\",\n",
    "    \"A perfect blend of drama and humor.\",\n",
    "    \"Loved every minute of it.\",\n",
    "    \"A movie to remember.\",\n",
    "    \"Pure magic on screen.\",\n",
    "    \"Such a refreshing take.\",\n",
    "    \"Emotionally satisfying and rewarding.\",\n",
    "    \"Engaging, thoughtful, and well-paced.\",\n",
    "    \"A deeply impactful experience.\",\n",
    "    \"Beautiful storytelling, great cast.\",\n",
    "    \"It hit all the right notes.\",\n",
    "    \"Visually stunning, emotionally profound.\",\n",
    "    \"A work of art.\",\n",
    "    \"A powerful message delivered well.\",\n",
    "    \"Stunning performances, great direction.\",\n",
    "    \"Simply brilliant.\",\n",
    "    \"An unforgettable experience.\",\n",
    "    \"Gave me chills. So well done.\",\n",
    "    \"Thought-provoking and well-acted.\",\n",
    "    \"A deeply moving story.\",\n",
    "    \"Excellent pacing and character arcs.\",\n",
    "    \"Smart, stylish, and satisfying.\",\n",
    "    \"Loved the emotional depth.\",\n",
    "    \"A modern classic.\",\n",
    "    \n",
    "    # Negative reviews\n",
    "    \"Terribly boring and slow.\",\n",
    "    \"A complete waste of time.\",\n",
    "    \"Poorly acted and badly written.\",\n",
    "    \"I couldn’t even finish it.\",\n",
    "    \"Predictable and uninspired.\",\n",
    "    \"Dull plot and weak characters.\",\n",
    "    \"Awful pacing and editing.\",\n",
    "    \"So bad it was almost funny.\",\n",
    "    \"Cringe-worthy dialogue throughout.\",\n",
    "    \"Visually bland and forgettable.\",\n",
    "    \"The story went nowhere.\",\n",
    "    \"Not worth the hype.\",\n",
    "    \"I wanted to like it, but couldn’t.\",\n",
    "    \"Felt like a low-budget mess.\",\n",
    "    \"Characters lacked depth and motivation.\",\n",
    "    \"One of the worst I’ve seen.\",\n",
    "    \"Too long and painfully slow.\",\n",
    "    \"Acting was wooden and unnatural.\",\n",
    "    \"Overly dramatic and underwhelming.\",\n",
    "    \"An incoherent mess.\",\n",
    "    \"It dragged on forever.\",\n",
    "    \"Couldn’t connect with the story.\",\n",
    "    \"Felt like it had no direction.\",\n",
    "    \"A shallow and pointless movie.\",\n",
    "    \"Didn’t make any emotional impact.\",\n",
    "    \"Everything felt forced.\",\n",
    "    \"Disappointing and forgettable.\",\n",
    "    \"Bad writing ruined it.\",\n",
    "    \"Just a generic, cliché film.\",\n",
    "    \"Predictable from start to finish.\",\n",
    "    \"Too much style, no substance.\",\n",
    "    \"Terrible dialogue and weak plot.\",\n",
    "    \"Unoriginal and boring.\",\n",
    "    \"No emotional weight whatsoever.\",\n",
    "    \"The acting was laughably bad.\",\n",
    "    \"Completely overrated.\",\n",
    "    \"Lacked tension and suspense.\",\n",
    "    \"A total snoozefest.\",\n",
    "    \"Nothing stood out.\",\n",
    "    \"I regret watching it.\",\n",
    "    \"Poor direction and execution.\",\n",
    "    \"Just didn’t work.\",\n",
    "    \"I kept checking the time.\",\n",
    "    \"So unengaging and dull.\",\n",
    "    \"Left no impression.\",\n",
    "    \"It felt half-baked.\",\n",
    "    \"A missed opportunity.\",\n",
    "    \"Not even worth streaming.\",\n",
    "    \"Simply awful.\",\n",
    "    \"Don’t bother with this one.\"\n",
    "]"
   ]
  },
  {
   "cell_type": "code",
   "execution_count": 144,
   "id": "42fd886c-1630-4892-9303-2f176f9a4f98",
   "metadata": {},
   "outputs": [],
   "source": [
    "import nltk\n",
    "from nltk.corpus import stopwords\n",
    "from sklearn.feature_extraction.text import CountVectorizer, TfidfVectorizer\n",
    "from sklearn.model_selection import train_test_split\n",
    "from sklearn.naive_bayes import MultinomialNB\n",
    "from sklearn.metrics import accuracy_score, precision_score, recall_score, f1_score\n",
    "from sklearn.linear_model import LogisticRegression"
   ]
  },
  {
   "cell_type": "markdown",
   "id": "920ff0d4-45f3-420a-b006-5df719aac2f3",
   "metadata": {},
   "source": [
    "### Q4"
   ]
  },
  {
   "cell_type": "code",
   "execution_count": 130,
   "id": "66988323-20e1-4bb0-8a46-09c70c1addc9",
   "metadata": {},
   "outputs": [],
   "source": [
    "temp_dict = {\"Review\": reviews.copy(), \"Sentiment\": []}\n",
    "temp_list = [\"Positive\"] * 50 + [\"Negative\"] * 50\n",
    "temp_dict[\"Sentiment\"] = temp_list.copy()\n",
    "reviews_df = pd.DataFrame(temp_dict)"
   ]
  },
  {
   "cell_type": "code",
   "execution_count": 134,
   "id": "21c179b4-3a19-4bb0-8efc-f1f09cf49123",
   "metadata": {},
   "outputs": [
    {
     "name": "stdout",
     "output_type": "stream",
     "text": [
      "0.9\n"
     ]
    }
   ],
   "source": [
    "stop_words = stopwords.words('english')\n",
    "count_vect = CountVectorizer(stop_words=stop_words, max_features=500)\n",
    "count_vect.fit(reviews_df[\"Review\"])\n",
    "# print(count_vect.transform([\"Loved\"]).toarray())\n",
    "X = count_vect.transform(reviews_df[\"Review\"])\n",
    "y = [1 if sentiment == \"Positive\" else 0 for sentiment in reviews_df[\"Sentiment\"]]\n",
    "X_train, X_test, reviews_train, reviews_test, sentiments_train, sentiments_test, y_train, y_test = train_test_split(X, reviews_df[\"Review\"], reviews_df[\"Sentiment\"], y, train_size=0.8, random_state=5)\n",
    "MNB = MultinomialNB()\n",
    "MNB.fit(X_train, y_train)\n",
    "y_pred = MNB.predict(X_test)\n",
    "print(accuracy_score(y_test, y_pred))\n",
    "# for i in range(len(reviews_test)):\n",
    "#     print(reviews_test.iloc[i])\n",
    "#     print(predict_review_sentiment(MNB, count_vect, [reviews_test.iloc[i]]), sentiments_test.iloc[i])"
   ]
  },
  {
   "cell_type": "markdown",
   "id": "27837ad2-9056-4b7d-9ca0-f3cd6afbb5cb",
   "metadata": {},
   "source": [
    "### Q5"
   ]
  },
  {
   "cell_type": "code",
   "execution_count": 181,
   "id": "c296143f-5755-4b39-8856-fd87c233e3b3",
   "metadata": {},
   "outputs": [],
   "source": [
    "def text_preprocess_vectorize(texts, vectorizer):\n",
    "    return vectorizer.transform(texts)"
   ]
  },
  {
   "cell_type": "code",
   "execution_count": 153,
   "id": "b7db0692-b007-4a8a-b060-8e3a3aa52dc4",
   "metadata": {},
   "outputs": [],
   "source": [
    "temp_dict = {\"Feedback\": reviews.copy(), \"Label\": []}\n",
    "temp_list = [\"Good\"] * 50 + [\"Bad\"] * 50\n",
    "temp_dict[\"Label\"] = temp_list.copy()\n",
    "feedbacks_df = pd.DataFrame(temp_dict)"
   ]
  },
  {
   "cell_type": "code",
   "execution_count": 190,
   "id": "fe340265-3276-49aa-811a-98e8894e14f7",
   "metadata": {},
   "outputs": [
    {
     "name": "stdout",
     "output_type": "stream",
     "text": [
      "0.8333333333333334 0.7692307692307693 0.8\n"
     ]
    }
   ],
   "source": [
    "tfidf_vect = TfidfVectorizer(lowercase=True, stop_words=stop_words, max_features=300)\n",
    "tfidf_vect.fit(feedbacks_df[\"Feedback\"])\n",
    "X = tfidf_vect.transform(feedbacks_df[\"Feedback\"])\n",
    "y = [1 if label == \"Good\" else 0 for label in feedbacks_df[\"Label\"]]\n",
    "X_train, X_test, feedbacks_train, feedbacks_test, labels_train, labels_test, y_train, y_test = train_test_split(X, feedbacks_df[\"Feedback\"], feedbacks_df[\"Label\"], y, train_size=0.75, random_state=46)\n",
    "LR = LogisticRegression()\n",
    "LR.fit(X_train, y_train)\n",
    "y_pred = LR.predict(X_test)\n",
    "print(precision_score(y_test, y_pred), recall_score(y_test, y_pred), f1_score(y_test, y_pred))"
   ]
  }
 ],
 "metadata": {
  "kernelspec": {
   "display_name": "Python 3 (ipykernel)",
   "language": "python",
   "name": "python3"
  },
  "language_info": {
   "codemirror_mode": {
    "name": "ipython",
    "version": 3
   },
   "file_extension": ".py",
   "mimetype": "text/x-python",
   "name": "python",
   "nbconvert_exporter": "python",
   "pygments_lexer": "ipython3",
   "version": "3.13.0"
  }
 },
 "nbformat": 4,
 "nbformat_minor": 5
}
